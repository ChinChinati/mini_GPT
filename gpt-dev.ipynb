{
 "cells": [
  {
   "cell_type": "code",
   "execution_count": 113,
   "metadata": {},
   "outputs": [],
   "source": [
    "# !wget https://raw.githubusercontent.com/karpathy/char-rnn/master/data/tinyshakespeare/input.txt"
   ]
  },
  {
   "cell_type": "code",
   "execution_count": null,
   "metadata": {},
   "outputs": [],
   "source": [
    "with open('input.txt', 'r', encoding='utf-8') as f:\n",
    "    text = f.read()\n",
    "print(len(text))"
   ]
  },
  {
   "cell_type": "code",
   "execution_count": null,
   "metadata": {},
   "outputs": [],
   "source": [
    "print(text[:50])"
   ]
  },
  {
   "cell_type": "code",
   "execution_count": null,
   "metadata": {},
   "outputs": [],
   "source": [
    "chars = sorted(list(set(text)))\n",
    "vocab_size = len(chars)\n",
    "chars = ''.join(chars)\n",
    "chars"
   ]
  },
  {
   "cell_type": "code",
   "execution_count": 117,
   "metadata": {},
   "outputs": [],
   "source": [
    "stoi = {ch:i for i,ch in enumerate(chars)}\n",
    "itos = {i:ch for i,ch in enumerate(chars)}\n",
    "\n",
    "encode = lambda ch: [stoi[c] for c in ch]\n",
    "decode = lambda ix: ''.join([itos[i] for i in ix])"
   ]
  },
  {
   "cell_type": "code",
   "execution_count": null,
   "metadata": {},
   "outputs": [],
   "source": [
    "print(encode(\"crafting\"))\n",
    "print(decode([41, 56, 39, 44, 58, 47, 52, 45]))"
   ]
  },
  {
   "cell_type": "code",
   "execution_count": null,
   "metadata": {},
   "outputs": [],
   "source": [
    "import torch\n",
    "data = torch.tensor([stoi[ch] for ch in text], dtype=torch.long)\n",
    "print(data.shape, data.dtype)\n",
    "data[:100]\n"
   ]
  },
  {
   "cell_type": "code",
   "execution_count": 120,
   "metadata": {},
   "outputs": [],
   "source": [
    "n = int(0.9 * len(data))\n",
    "train_data = data[:n]\n",
    "val_data = data[n:]"
   ]
  },
  {
   "cell_type": "code",
   "execution_count": null,
   "metadata": {},
   "outputs": [],
   "source": [
    "block_size = 8\n",
    "train_data[:block_size+1]"
   ]
  },
  {
   "cell_type": "code",
   "execution_count": null,
   "metadata": {},
   "outputs": [],
   "source": [
    "x = train_data[:block_size]\n",
    "y = train_data[1:block_size+1]\n",
    "\n",
    "for i in range(block_size):\n",
    "    input = x[:i+1]\n",
    "    output = y[i]\n",
    "    print(f'when input is {input} the target is {output}')\n"
   ]
  },
  {
   "cell_type": "code",
   "execution_count": null,
   "metadata": {},
   "outputs": [],
   "source": [
    "torch.manual_seed(1337)\n",
    "batch_size = 4\n",
    "block_size = 8\n",
    "\n",
    "def get_batch(split):\n",
    "    data = train_data if split == 'train' else val_data\n",
    "    ix = torch.randint(len(data)-block_size, size=(batch_size,))\n",
    "    x = torch.stack([data[i:i+block_size] for i in ix])\n",
    "    y = torch.stack([data[i+1:i+block_size+1] for i in ix])\n",
    "    return x,y\n",
    "\n",
    "xb,yb = get_batch('train')\n",
    "print(xb,'\\n',yb)\n",
    "\n",
    "for b in range(batch_size):\n",
    "    for c in range(block_size):\n",
    "        x = xb[b,:c+1]\n",
    "        y = yb[b,c]\n",
    "        print(f'when input is {x} the output is {y}')\n"
   ]
  },
  {
   "cell_type": "code",
   "execution_count": null,
   "metadata": {},
   "outputs": [],
   "source": [
    "import torch\n",
    "import torch.nn as nn\n",
    "from torch.nn import functional as F\n",
    "torch.manual_seed(1337)\n",
    "\n",
    "class BigramLanguageModel(nn.Module):\n",
    "    def __init__(self, vocab_size):\n",
    "        super().__init__()\n",
    "        self.token_embedding_table = nn.Embedding(vocab_size, vocab_size)\n",
    "\n",
    "    def forward(self, idx, targets=None):\n",
    "        logits = self.token_embedding_table(idx)\n",
    "\n",
    "        if targets == None:\n",
    "            loss = None\n",
    "        else:\n",
    "            B, T, C = logits.shape\n",
    "            logits = logits.view(B*T, C)\n",
    "            targets = targets.view(B*T)\n",
    "            loss = F.cross_entropy(logits, targets)\n",
    "\n",
    "        return logits, loss\n",
    "    \n",
    "    def generate(self, idx, max_new_tokens):\n",
    "        for _ in range(max_new_tokens):\n",
    "            logits, loss = self(idx)\n",
    "            logits = logits[:, -1, :] # becomes (B, C)\n",
    "            probs = F.softmax(logits, dim=-1)\n",
    "            idx_next = torch.multinomial(probs, num_samples=1)\n",
    "            idx = torch.cat((idx,idx_next), dim=-1)\n",
    "        return idx\n",
    "\n",
    "model = BigramLanguageModel(vocab_size)\n",
    "logits, loss = model(xb, yb)\n",
    "# print(logits.shape)\n",
    "# print(loss)\n",
    "\n",
    "decode(model.generate(xb[:1,:], max_new_tokens=1000)[0].tolist())\n"
   ]
  },
  {
   "cell_type": "code",
   "execution_count": 125,
   "metadata": {},
   "outputs": [],
   "source": [
    "optimizer = torch.optim.Adam(model.parameters(), lr=1e-3)"
   ]
  },
  {
   "cell_type": "code",
   "execution_count": null,
   "metadata": {},
   "outputs": [],
   "source": [
    "batch_size = 32\n",
    "for steps in range(10000):\n",
    "    xb, yb = get_batch('train')\n",
    "\n",
    "    logits, loss = model(xb, yb)\n",
    "    optimizer.zero_grad(set_to_none=True)\n",
    "    loss.backward()\n",
    "    optimizer.step()\n",
    "\n",
    "print(loss.item())"
   ]
  },
  {
   "cell_type": "code",
   "execution_count": null,
   "metadata": {},
   "outputs": [],
   "source": [
    "print(decode(model.generate(xb[:1,:], max_new_tokens=1000)[0].tolist()))"
   ]
  },
  {
   "cell_type": "markdown",
   "metadata": {},
   "source": [
    "THE MATHEMATICAL TRICK IN SELF-ATTENTION"
   ]
  },
  {
   "cell_type": "code",
   "execution_count": null,
   "metadata": {},
   "outputs": [],
   "source": [
    "torch.manual_seed(1337)\n",
    "B,T,C = 4,8,5\n",
    "x = torch.randn(B,T,C)\n",
    "x.shape"
   ]
  },
  {
   "cell_type": "code",
   "execution_count": null,
   "metadata": {},
   "outputs": [],
   "source": [
    "xbow = torch.zeros((B,T,C))\n",
    "avg_matrix = torch.tril(torch.ones(T,T))\n",
    "avg_matrix /= torch.sum(avg_matrix, dim=-1, keepdim=True)\n",
    "xbow = avg_matrix @ x\n",
    "\n",
    "print(avg_matrix) # T, T\n",
    "print(x[0]) # T, C\n",
    "xbow[0]\n"
   ]
  },
  {
   "cell_type": "code",
   "execution_count": 269,
   "metadata": {},
   "outputs": [],
   "source": [
    "torch.manual_seed(1337)\n",
    "B,T,C = 4,8,32\n",
    "x = torch.randn(B,T,C)\n",
    "\n",
    "\n",
    "head_size = 16\n",
    "key = nn.Linear(C, head_size, bias=False)\n",
    "query = nn.Linear(C, head_size, bias=False)\n",
    "value = nn.Linear(C, head_size, bias=False)\n",
    "k = key(x) # (B, T, 16)\n",
    "q = query(x) # (B, T, 16)\n",
    "v = value(x)"
   ]
  },
  {
   "cell_type": "code",
   "execution_count": null,
   "metadata": {},
   "outputs": [],
   "source": [
    "wei = q @ k.transpose(-2, -1) * head_size**-0.5 # (B, T, 16) @ (B, 16, T) -> (B, T, T)\n",
    "print(wei.var())\n",
    "tril = torch.tril(torch.ones(T,T))\n",
    "wei = wei.masked_fill(tril == 0, float('-inf'))\n",
    "\n",
    "wei = F.softmax(wei, dim=-1)\n",
    "\n",
    "out = wei @ v # (B, T, T) @ (B, T, C) -> (B, T, C)\n",
    "\n",
    "out[0].shape"
   ]
  },
  {
   "cell_type": "code",
   "execution_count": null,
   "metadata": {},
   "outputs": [],
   "source": [
    "k.var()"
   ]
  },
  {
   "cell_type": "code",
   "execution_count": null,
   "metadata": {},
   "outputs": [],
   "source": [
    "q.var()"
   ]
  },
  {
   "cell_type": "code",
   "execution_count": null,
   "metadata": {},
   "outputs": [],
   "source": [
    "import torch\n",
    "torch.randint(0, 20000, (1, 1024)).shape"
   ]
  },
  {
   "cell_type": "code",
   "execution_count": 78,
   "metadata": {},
   "outputs": [
    {
     "name": "stdout",
     "output_type": "stream",
     "text": [
      "[-1, 1, -1, 0]\n",
      "[0, 0, -1, 1]\n",
      "[1, 0, -1, 0]\n",
      "[0, 0, -1, 1]\n",
      "[0, -1, -1, 0]\n",
      "[-1, 1, 0, 0]\n",
      "[0, 0, 1, 0]\n",
      "[1, 1, 0, 0]\n",
      "[0, 0, 0, 1]\n",
      "[1, -1, 0, 0]\n",
      "[-1, 0, 0, -1]\n",
      "[0, 0, 1, -1]\n",
      "[0, 1, 0, -1]\n",
      "[0, 0, 1, -1]\n",
      "[1, -1, 0, -1]\n"
     ]
    }
   ],
   "source": [
    "\n",
    "from typing import List\n",
    "import copy\n",
    "class Solution:\n",
    "    def findSafeWalk(self, grid: List[List[int]], health: int) -> bool:\n",
    "        loc = [0,0]\n",
    "        m,n = len(grid),len(grid[0])\n",
    "        costMap = list(list(list(-1 for i in range(4)) for i in range(n)) for j in range(m))\n",
    "        # print(costMap)\n",
    "        # while not loc == [m-1,n-1] or not health == 0:\n",
    "        # L,R,U,D -> y-1, y+1, x-1, x+1\n",
    "        for x in range(m):\n",
    "            for y in range(n):\n",
    "                try:\n",
    "                    if y > 0:\n",
    "                        costMap[x][y][0] = grid[x][y-1]\n",
    "                except:\n",
    "                    pass\n",
    "                try:\n",
    "                    costMap[x][y][1] = grid[x][y+1]\n",
    "                except:\n",
    "                    pass\n",
    "                try:\n",
    "                    if x > 0:\n",
    "                        costMap[x][y][2] = grid[x-1][y]\n",
    "                except:\n",
    "                    pass\n",
    "                try:\n",
    "                    costMap[x][y][3] = grid[x+1][y]\n",
    "                except:\n",
    "                    pass\n",
    "                print(costMap[x][y])\n",
    "\n",
    "        x,y = 0,0\n",
    "        while not [x,y] == [m-1,n-1] or not health == 0:\n",
    "                for z in range(4):\n",
    "                    cost = costMap[x][y][z]\n",
    "                    if cost == -1:\n",
    "                        pass\n",
    "                    elif cost == 0:\n",
    "\n",
    "\n",
    "test = Solution()\n",
    "test.findSafeWalk(grid = [[0,1,0,0,0],[0,1,0,1,0],[0,0,0,1,0]], health = 1)"
   ]
  },
  {
   "cell_type": "code",
   "execution_count": null,
   "metadata": {},
   "outputs": [],
   "source": []
  },
  {
   "cell_type": "code",
   "execution_count": null,
   "metadata": {},
   "outputs": [],
   "source": []
  },
  {
   "cell_type": "code",
   "execution_count": 2,
   "metadata": {},
   "outputs": [
    {
     "name": "stdout",
     "output_type": "stream",
     "text": [
      "[0, 1, 0, 0, 0]\n",
      "[0, 1, 0, 1, 0]\n",
      "[0, 0, 0, 1, 0]\n"
     ]
    },
    {
     "ename": "KeyboardInterrupt",
     "evalue": "",
     "output_type": "error",
     "traceback": [
      "\u001b[0;31m---------------------------------------------------------------------------\u001b[0m",
      "\u001b[0;31mKeyboardInterrupt\u001b[0m                         Traceback (most recent call last)",
      "Cell \u001b[0;32mIn[2], line 63\u001b[0m\n\u001b[1;32m     59\u001b[0m         \u001b[38;5;28;01mreturn\u001b[39;00m shortest\n\u001b[1;32m     62\u001b[0m test \u001b[38;5;241m=\u001b[39m Solution()\n\u001b[0;32m---> 63\u001b[0m \u001b[43mtest\u001b[49m\u001b[38;5;241;43m.\u001b[39;49m\u001b[43mfindSafeWalk\u001b[49m\u001b[43m(\u001b[49m\u001b[43mgrid\u001b[49m\u001b[43m \u001b[49m\u001b[38;5;241;43m=\u001b[39;49m\u001b[43m \u001b[49m\u001b[43m[\u001b[49m\u001b[43m[\u001b[49m\u001b[38;5;241;43m0\u001b[39;49m\u001b[43m,\u001b[49m\u001b[38;5;241;43m1\u001b[39;49m\u001b[43m,\u001b[49m\u001b[38;5;241;43m0\u001b[39;49m\u001b[43m,\u001b[49m\u001b[38;5;241;43m0\u001b[39;49m\u001b[43m,\u001b[49m\u001b[38;5;241;43m0\u001b[39;49m\u001b[43m]\u001b[49m\u001b[43m,\u001b[49m\u001b[43m[\u001b[49m\u001b[38;5;241;43m0\u001b[39;49m\u001b[43m,\u001b[49m\u001b[38;5;241;43m1\u001b[39;49m\u001b[43m,\u001b[49m\u001b[38;5;241;43m0\u001b[39;49m\u001b[43m,\u001b[49m\u001b[38;5;241;43m1\u001b[39;49m\u001b[43m,\u001b[49m\u001b[38;5;241;43m0\u001b[39;49m\u001b[43m]\u001b[49m\u001b[43m,\u001b[49m\u001b[43m[\u001b[49m\u001b[38;5;241;43m0\u001b[39;49m\u001b[43m,\u001b[49m\u001b[38;5;241;43m0\u001b[39;49m\u001b[43m,\u001b[49m\u001b[38;5;241;43m0\u001b[39;49m\u001b[43m,\u001b[49m\u001b[38;5;241;43m1\u001b[39;49m\u001b[43m,\u001b[49m\u001b[38;5;241;43m0\u001b[39;49m\u001b[43m]\u001b[49m\u001b[43m]\u001b[49m\u001b[43m,\u001b[49m\u001b[43m \u001b[49m\u001b[43mhealth\u001b[49m\u001b[43m \u001b[49m\u001b[38;5;241;43m=\u001b[39;49m\u001b[43m \u001b[49m\u001b[38;5;241;43m1\u001b[39;49m\u001b[43m)\u001b[49m\n",
      "Cell \u001b[0;32mIn[2], line 43\u001b[0m, in \u001b[0;36mSolution.findSafeWalk\u001b[0;34m(self, grid, health)\u001b[0m\n\u001b[1;32m     41\u001b[0m shortest \u001b[38;5;241m=\u001b[39m {}\n\u001b[1;32m     42\u001b[0m \u001b[38;5;28;01mwhile\u001b[39;00m minHeap:\n\u001b[0;32m---> 43\u001b[0m     n1, w1 \u001b[38;5;241m=\u001b[39m \u001b[43mheapq\u001b[49m\u001b[38;5;241;43m.\u001b[39;49m\u001b[43mheappop\u001b[49m\u001b[43m(\u001b[49m\u001b[43mminHeap\u001b[49m\u001b[43m)\u001b[49m\n\u001b[1;32m     44\u001b[0m     \u001b[38;5;28;01mif\u001b[39;00m n1 \u001b[38;5;129;01min\u001b[39;00m shortest :\n\u001b[1;32m     45\u001b[0m         \u001b[38;5;28;01mif\u001b[39;00m w1 \u001b[38;5;241m>\u001b[39m shortest[n1]:\n",
      "\u001b[0;31mKeyboardInterrupt\u001b[0m: "
     ]
    }
   ],
   "source": [
    "import heapq\n",
    "from typing import List\n",
    "import copy\n",
    "\n",
    "class Solution:\n",
    "    def findSafeWalk(self, grid: List[List[int]], health: int) -> bool:\n",
    "        m,n = len(grid),len(grid[0])\n",
    "        for i in range(m):\n",
    "            print(grid[i])\n",
    "\n",
    "        edges = {}\n",
    "        for i in range(m*n):\n",
    "            edges[i] = []\n",
    "        # print(edges)\n",
    "\n",
    "        # No. if the node = (x*n)+y\n",
    "        for x in range(m):\n",
    "            for y in range(n):\n",
    "                try:\n",
    "                    if x > 0:\n",
    "                        edges[(x*n)+y].append([((x-1)*n)+y, grid[x-1][y]])\n",
    "                except:\n",
    "                    pass\n",
    "                try:\n",
    "                    edges[(x*n)+y].append([((x+1)*n)+y, grid[x+1][y]])\n",
    "                except:\n",
    "                    pass\n",
    "                try:\n",
    "                    if y > 0:\n",
    "                        edges[(x*n)+y].append([(x*n)+y-1, grid[x][y-1]])\n",
    "                except:\n",
    "                    pass\n",
    "                try:\n",
    "                    edges[(x*n)+y].append([(x*n)+y+1, grid[x][y+1]])\n",
    "                except:\n",
    "                    pass\n",
    "\n",
    "        # print(edges)\n",
    "\n",
    "        minHeap = [[0, 0]]\n",
    "        shortest = {}\n",
    "        while minHeap:\n",
    "            n1, w1 = heapq.heappop(minHeap)\n",
    "            if n1 in shortest :\n",
    "                if w1 > shortest[n1]:\n",
    "                    continue\n",
    "                else:\n",
    "                    shortest[n1] = w1\n",
    "            shortest[n1] = w1\n",
    "            for n2, w2 in edges[n1]:\n",
    "                if n2 in shortest:\n",
    "                    if w2 > shortest[n2]:\n",
    "                        continue\n",
    "                    else:\n",
    "                        shortest[n2] = w2\n",
    "                heapq.heappush(minHeap, [n2, w1 + w2])\n",
    "            # print(minHeap)\n",
    "        # print(shortest)\n",
    "        return shortest\n",
    "\n",
    "\n",
    "test = Solution()\n",
    "test.findSafeWalk(grid = [[0,1,0,0,0],[0,1,0,1,0],[0,0,0,1,0]], health = 1)"
   ]
  },
  {
   "cell_type": "code",
   "execution_count": 65,
   "metadata": {},
   "outputs": [
    {
     "name": "stdout",
     "output_type": "stream",
     "text": [
      "{0: [[1, 10], [2, 3]], 1: [[3, 2]], 2: [[1, 4], [3, 8], [4, 2]], 3: [[4, 5]], 4: []}\n"
     ]
    },
    {
     "data": {
      "text/plain": [
       "{0: 0, 1: 10, 2: 3, 3: 11, 4: 5}"
      ]
     },
     "execution_count": 65,
     "metadata": {},
     "output_type": "execute_result"
    }
   ],
   "source": [
    "from typing import Dict\n",
    "import heapq\n",
    "class Soluition:\n",
    "    def shortestPath(self, n: int, edges: List[List[int]], src: int) -> Dict[int, int]:\n",
    "        adj = {}\n",
    "        n = 5\n",
    "        for i in range(n):\n",
    "            adj[i] = []\n",
    "\n",
    "        for s, dst, dist in edges:\n",
    "            adj[s].append([dst, dist])\n",
    "        print(adj)\n",
    "        shortest = {}\n",
    "\n",
    "        minHeap = [[src, 0]]\n",
    "        while minHeap:\n",
    "            n1, w1 = heapq.heappop(minHeap)\n",
    "            if n1 in shortest:\n",
    "                continue\n",
    "            shortest[n1] = w1\n",
    "\n",
    "            for n2, w2 in adj[n1]:\n",
    "                if n2 in shortest:\n",
    "                    continue\n",
    "                heapq.heappush(minHeap, [n2, w1 + w2])\n",
    "\n",
    "        return shortest\n",
    "\n",
    "\n",
    "\n",
    "\n",
    "\n",
    "sol = Soluition()\n",
    "sol.shortestPath(5, [[0,1,10], [0,2,3], [1,3,2], [2,1,4], [2,3,8], [2,4,2], [3,4,5]], 0)"
   ]
  },
  {
   "cell_type": "code",
   "execution_count": 56,
   "metadata": {},
   "outputs": [
    {
     "name": "stdout",
     "output_type": "stream",
     "text": [
      "<class 'set'>\n",
      "0\n",
      "z\n",
      "w\n",
      "x\n",
      "y\n"
     ]
    }
   ],
   "source": [
    "a = {\"w\", \"x\", \"y\", \"z\", 0,0}\n",
    "# a = (\"w\", \"x\", \"y\", \"z\", 0)\n",
    "print(type(a))\n",
    "\n",
    "# a[0]"
   ]
  },
  {
   "cell_type": "code",
   "execution_count": null,
   "metadata": {},
   "outputs": [],
   "source": []
  }
 ],
 "metadata": {
  "kernelspec": {
   "display_name": "rt2",
   "language": "python",
   "name": "python3"
  },
  "language_info": {
   "codemirror_mode": {
    "name": "ipython",
    "version": 3
   },
   "file_extension": ".py",
   "mimetype": "text/x-python",
   "name": "python",
   "nbconvert_exporter": "python",
   "pygments_lexer": "ipython3",
   "version": "3.12.4"
  }
 },
 "nbformat": 4,
 "nbformat_minor": 2
}
